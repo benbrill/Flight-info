{
 "cells": [
  {
   "cell_type": "code",
   "execution_count": 1,
   "metadata": {},
   "outputs": [],
   "source": [
    "import requests\n",
    "import pandas as pd\n",
    "import os\n",
    "import sqlite3\n",
    "import datetime\n",
    "import json"
   ]
  },
  {
   "cell_type": "code",
   "execution_count": null,
   "metadata": {},
   "outputs": [],
   "source": [
    "def make_request(origin, destination, date_from, date_to):\n",
    "    url = \"https://api.tequila.kiwi.com/v2/search\"\n",
    "\n",
    "    data = {\n",
    "        \"fly_from\": origin,\n",
    "        \"fly_to\": destination,\n",
    "        \"date_from\": date_from,\n",
    "        \"date_to\": date_to,\n",
    "        \"adults\": 1,\n",
    "        \"selected_cabins\": \"M\",\n",
    "        \"select_airlines\": \"UA,DL,AA\",\n",
    "        \"select_airlines_exclude\": False,\n",
    "        \"curr\": \"USD\",\n",
    "        \"max_stopovers\": 0,\n",
    "        \"limit\": 1000\n",
    "    }\n",
    "\n",
    "    r = requests.get(url=url, headers= {\"accept\": \"application/json\", \"apikey\": ACCESS_TOKEN}, params = data)\n",
    "    print(r.status_code)\n",
    "    r = r.json()\n",
    "    return r\n",
    "\n",
    "def make_df(r):\n",
    "    df_list = []\n",
    "    for flight in r['data']:\n",
    "        df_dict = {}\n",
    "        df_dict['id'] = flight['id'] + str(pd.Timestamp.now().strftime('%Y%m%d%H'))\n",
    "        df_dict['extract_time'] = pd.Timestamp.now().strftime('%Y-%m-%d %H:%M:%S')\n",
    "        df_dict['flight_id'] = str(flight['airlines'][0]) + str(flight['route'][0]['flight_no']) + str(pd.to_datetime(flight['local_departure']).strftime('%y%m%d%H'))\n",
    "        df_dict['fly_from'] = flight['flyFrom']\n",
    "        df_dict['fly_to'] = flight['flyTo']\n",
    "        df_dict['city_from'] = flight['cityFrom']\n",
    "        df_dict['city_code_from'] = flight['cityCodeFrom']\n",
    "        df_dict['city_to'] = flight['cityTo']\n",
    "        df_dict['city_code_to'] = flight['cityCodeTo']\n",
    "        df_dict['local_departure'] = pd.to_datetime(flight['local_departure']).strftime('%Y-%m-%d %H:%M')\n",
    "        df_dict['local_arrival'] = pd.to_datetime(flight['local_arrival']).strftime('%Y-%m-%d %H:%M')\n",
    "        df_dict['airlines'] = flight['airlines'][0]\n",
    "        df_dict['distance'] = flight['distance']\n",
    "        df_dict['fare'] = flight['fare']['adults']\n",
    "        df_dict['price'] = flight['price']\n",
    "        for route in flight['route']:\n",
    "            df_dict['flight_number'] = route['flight_no']\n",
    "            df_dict['fare_classes'] = route['fare_classes']\n",
    "            df_dict['fare_basis'] = route['fare_basis']\n",
    "            df_dict['fare_category'] = route['fare_category']\n",
    "            df_dict['equipment'] = route['equipment']\n",
    "\n",
    "        df_list.append(df_dict)\n",
    "    df = pd.DataFrame(df_list)\n",
    "    return df\n",
    "\n",
    "def create_db(df):\n",
    "    with sqlite3.connect('flights.db') as conn:\n",
    "        df.to_sql('flights', conn, if_exists='append', index=False)"
   ]
  },
  {
   "cell_type": "code",
   "execution_count": 12,
   "metadata": {},
   "outputs": [
    {
     "name": "stdout",
     "output_type": "stream",
     "text": [
      "LAX WAS\n",
      "WAS LAX\n",
      "LAX WAS\n",
      "WAS LAX\n",
      "LAX NYC\n",
      "LAX NYC\n",
      "NYC LAX\n",
      "NYC LAX\n",
      "05/09/2023 03/01/2024\n"
     ]
    }
   ],
   "source": [
    "with open('../tracked_flights.json', 'r') as f:\n",
    "    data = json.load(f)\n",
    "\n",
    "today = datetime.date.today()\n",
    "four_months = today + datetime.timedelta(120)\n",
    "\n",
    "today = today.strftime('%d/%m/%Y')\n",
    "four_months = four_months.strftime('%d/%m/%Y')\n",
    "\n",
    "for flight in data:\n",
    "    print(flight['fly_from'], flight['fly_to'])\n",
    "\n",
    "print(today, four_months)\n"
   ]
  },
  {
   "cell_type": "code",
   "execution_count": null,
   "metadata": {},
   "outputs": [],
   "source": []
  }
 ],
 "metadata": {
  "kernelspec": {
   "display_name": "base",
   "language": "python",
   "name": "python3"
  },
  "language_info": {
   "codemirror_mode": {
    "name": "ipython",
    "version": 3
   },
   "file_extension": ".py",
   "mimetype": "text/x-python",
   "name": "python",
   "nbconvert_exporter": "python",
   "pygments_lexer": "ipython3",
   "version": "3.9.7"
  },
  "orig_nbformat": 4
 },
 "nbformat": 4,
 "nbformat_minor": 2
}
